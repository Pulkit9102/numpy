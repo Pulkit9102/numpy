{
 "cells": [
  {
   "cell_type": "code",
   "execution_count": null,
   "id": "ec43db89-9135-4f74-8f4c-1e5dbb40a07f",
   "metadata": {},
   "outputs": [],
   "source": [
    "numpy"
   ]
  }
 ],
 "metadata": {
  "kernelspec": {
   "display_name": "Python 3 (ipykernel)",
   "language": "python",
   "name": "python3"
  },
  "language_info": {
   "codemirror_mode": {
    "name": "ipython",
    "version": 3
   },
   "file_extension": ".py",
   "mimetype": "text/x-python",
   "name": "python",
   "nbconvert_exporter": "python",
   "pygments_lexer": "ipython3",
   "version": "3.13.2"
  }
 },
 "nbformat": 4,
 "nbformat_minor": 5
}
