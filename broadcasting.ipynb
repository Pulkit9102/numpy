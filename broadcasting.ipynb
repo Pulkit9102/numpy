{
 "cells": [
  {
   "cell_type": "code",
   "execution_count": 1,
   "id": "5583364c-f3ca-4f07-b693-1fc025b595eb",
   "metadata": {},
   "outputs": [],
   "source": [
    "import numpy as np"
   ]
  },
  {
   "cell_type": "code",
   "execution_count": 2,
   "id": "bea66080-612f-475d-b6ca-874359efeaef",
   "metadata": {},
   "outputs": [
    {
     "name": "stdout",
     "output_type": "stream",
     "text": [
      "[ 1  4  9 16 25]\n"
     ]
    }
   ],
   "source": [
    "arr = np.array([1, 2, 3, 4, 5])\n",
    "result = arr ** 2  # Vectorized operation\n",
    "print(result)  # Output: [1 4 9 16 25]"
   ]
  },
  {
   "cell_type": "code",
   "execution_count": 5,
   "id": "af37359f-2ad0-41ff-8681-7e329b8b74e3",
   "metadata": {},
   "outputs": [
    {
     "data": {
      "text/plain": [
       "array([11, 14, 19, 26, 35])"
      ]
     },
     "execution_count": 5,
     "metadata": {},
     "output_type": "execute_result"
    }
   ],
   "source": [
    "result + 10 # adding 10 to every element of array(broadcasting usecasse)\n",
    "# here '10' broadcast across the entire array and no extra memory is used"
   ]
  },
  {
   "cell_type": "code",
   "execution_count": 8,
   "id": "ceaac859-e8b9-4d36-bcca-8a62d7ff3f79",
   "metadata": {},
   "outputs": [],
   "source": [
    "# Broadcasting ka basic matlab h ki apn ek operation certain jagah p perform kr rhe h har ek element k liye "
   ]
  },
  {
   "cell_type": "code",
   "execution_count": 9,
   "id": "dbead518-3100-4700-96dd-7fa03571a82e",
   "metadata": {},
   "outputs": [],
   "source": [
    "# we can add 2d array in 1 d array easily using broadcasting"
   ]
  },
  {
   "cell_type": "code",
   "execution_count": 10,
   "id": "2bc699d1-388f-4ae9-83ff-ad52fa2b529b",
   "metadata": {},
   "outputs": [
    {
     "name": "stdout",
     "output_type": "stream",
     "text": [
      "[[2 4 6]\n",
      " [5 7 9]]\n"
     ]
    }
   ],
   "source": [
    "#example\n",
    "arr1 = np.array([[1,2,3],[4,5,6]])\n",
    "arr2 = np.array([1,2,3])\n",
    "result = arr1+arr2 #Broadcasting arr2 across arr1\n",
    "print(result)"
   ]
  },
  {
   "cell_type": "raw",
   "id": "dee8979d-003c-4d33-8cac-90e53aae133f",
   "metadata": {},
   "source": [
    "result.shape\n"
   ]
  },
  {
   "cell_type": "code",
   "execution_count": 11,
   "id": "6cf5193a-0070-457b-b493-7c0940d57c78",
   "metadata": {},
   "outputs": [
    {
     "data": {
      "text/plain": [
       "(2, 3)"
      ]
     },
     "execution_count": 11,
     "metadata": {},
     "output_type": "execute_result"
    }
   ],
   "source": [
    "result.shape"
   ]
  },
  {
   "cell_type": "code",
   "execution_count": 12,
   "id": "d7db7232-6369-4946-84a7-06bbe93cb30a",
   "metadata": {},
   "outputs": [],
   "source": [
    "# Broadcasting is used to implements multiple operation \n",
    "# it is mainly used in normalising the data\n"
   ]
  },
  {
   "cell_type": "code",
   "execution_count": 13,
   "id": "01da9832-3f28-4f6f-b5fc-c450c0424d69",
   "metadata": {},
   "outputs": [
    {
     "name": "stdout",
     "output_type": "stream",
     "text": [
      "[[-1.41421356 -1.41421356 -1.41421356]\n",
      " [-0.70710678 -0.70710678 -0.70710678]\n",
      " [ 0.          0.          0.        ]\n",
      " [ 0.70710678  0.70710678  0.70710678]\n",
      " [ 1.41421356  1.41421356  1.41421356]]\n"
     ]
    }
   ],
   "source": [
    "# Simulating a dataset (5 samples, 3 features)\n",
    "data = np.array([[10, 20, 30],\n",
    "                 [15, 25, 35],\n",
    "                 [20, 30, 40],\n",
    "                 [25, 35, 45],\n",
    "                 [30, 40, 50]])\n",
    "\n",
    "# Calculating mean and standard deviation for each feature (column)\n",
    "mean = data.mean(axis=0)\n",
    "std = data.std(axis=0)\n",
    "\n",
    "# Normalizing the data using broadcasting\n",
    "normalized_data = (data - mean) / std\n",
    "\n",
    "print(normalized_data)"
   ]
  },
  {
   "cell_type": "code",
   "execution_count": null,
   "id": "f61f87ce-9876-49be-a624-58060813cc14",
   "metadata": {},
   "outputs": [],
   "source": []
  }
 ],
 "metadata": {
  "kernelspec": {
   "display_name": "Python 3 (ipykernel)",
   "language": "python",
   "name": "python3"
  },
  "language_info": {
   "codemirror_mode": {
    "name": "ipython",
    "version": 3
   },
   "file_extension": ".py",
   "mimetype": "text/x-python",
   "name": "python",
   "nbconvert_exporter": "python",
   "pygments_lexer": "ipython3",
   "version": "3.13.2"
  }
 },
 "nbformat": 4,
 "nbformat_minor": 5
}
