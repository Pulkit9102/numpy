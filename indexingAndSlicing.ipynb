{
 "cells": [
  {
   "cell_type": "code",
   "execution_count": 5,
   "id": "b8eef2c9-5a90-4cb2-b84a-95d9add1c953",
   "metadata": {},
   "outputs": [],
   "source": [
    "import numpy as np\n",
    "arr = np.array([[1,2,3],[4,5,6],[7,8,9],[11,12,13]])"
   ]
  },
  {
   "cell_type": "code",
   "execution_count": 6,
   "id": "30dfd682-268e-4b87-8d7d-ea09d7a07019",
   "metadata": {},
   "outputs": [
    {
     "data": {
      "text/plain": [
       "array([[ 1,  2,  3],\n",
       "       [ 4,  5,  6],\n",
       "       [ 7,  8,  9],\n",
       "       [11, 12, 13]])"
      ]
     },
     "execution_count": 6,
     "metadata": {},
     "output_type": "execute_result"
    }
   ],
   "source": [
    "arr"
   ]
  },
  {
   "cell_type": "code",
   "execution_count": 7,
   "id": "c6de252b-ada0-431a-91f6-0d5780dfb695",
   "metadata": {},
   "outputs": [],
   "source": [
    "flat = arr.flatten() #Reduces multi dimensional array to one dimension\n"
   ]
  },
  {
   "cell_type": "code",
   "execution_count": 8,
   "id": "13a4722a-934a-446b-9e91-c3f953490bf8",
   "metadata": {},
   "outputs": [
    {
     "data": {
      "text/plain": [
       "array([ 1,  2,  3,  4,  5,  6,  7,  8,  9, 11, 12, 13])"
      ]
     },
     "execution_count": 8,
     "metadata": {},
     "output_type": "execute_result"
    }
   ],
   "source": [
    "flat"
   ]
  },
  {
   "cell_type": "code",
   "execution_count": 14,
   "id": "a675ee91-4e02-4699-a762-b60ad357a43c",
   "metadata": {},
   "outputs": [],
   "source": [
    "b=flat[3:7] #we are creating a b array from  flat elements using slicing"
   ]
  },
  {
   "cell_type": "code",
   "execution_count": 15,
   "id": "de6791cf-07a2-4fcf-aa14-ecba3efc0bf1",
   "metadata": {},
   "outputs": [
    {
     "data": {
      "text/plain": [
       "array([444444,      5,      6,      7])"
      ]
     },
     "execution_count": 15,
     "metadata": {},
     "output_type": "execute_result"
    }
   ],
   "source": [
    "b"
   ]
  },
  {
   "cell_type": "code",
   "execution_count": 16,
   "id": "3be66f06-b0b1-4f5b-b988-4df4426bf7a1",
   "metadata": {},
   "outputs": [],
   "source": [
    "b[0]=444444 #we are changing element of b"
   ]
  },
  {
   "cell_type": "code",
   "execution_count": 17,
   "id": "0079246c-affc-43ac-a857-ad44fa7161f3",
   "metadata": {},
   "outputs": [
    {
     "data": {
      "text/plain": [
       "array([444444,      5,      6,      7])"
      ]
     },
     "execution_count": 17,
     "metadata": {},
     "output_type": "execute_result"
    }
   ],
   "source": [
    "b"
   ]
  },
  {
   "cell_type": "code",
   "execution_count": 18,
   "id": "454fb8b5-fe9e-4622-a8bf-81ffc149f7fa",
   "metadata": {},
   "outputs": [
    {
     "data": {
      "text/plain": [
       "array([     1,      2,      3, 444444,      5,      6,      7,      8,\n",
       "            9,     11,     12,     13])"
      ]
     },
     "execution_count": 18,
     "metadata": {},
     "output_type": "execute_result"
    }
   ],
   "source": [
    "flat # here we see that flat array also changes as we make change in b array that shows that changes in flatten array affects the original too"
   ]
  },
  {
   "cell_type": "code",
   "execution_count": 19,
   "id": "9f462f1e-da75-4c65-8b56-c37533206086",
   "metadata": {},
   "outputs": [],
   "source": [
    "mask = arr>3 #to get specific elements based on condition"
   ]
  },
  {
   "cell_type": "code",
   "execution_count": 20,
   "id": "7d18186a-1de8-4f2f-bdb1-61652b7ff33a",
   "metadata": {},
   "outputs": [
    {
     "name": "stdout",
     "output_type": "stream",
     "text": [
      "[ 4  5  6  7  8  9 11 12 13]\n"
     ]
    }
   ],
   "source": [
    "print(arr[mask])"
   ]
  },
  {
   "cell_type": "code",
   "execution_count": null,
   "id": "e24e6a13-12e7-4b36-83b5-e8ee8c15c642",
   "metadata": {},
   "outputs": [],
   "source": []
  }
 ],
 "metadata": {
  "kernelspec": {
   "display_name": "Python 3 (ipykernel)",
   "language": "python",
   "name": "python3"
  },
  "language_info": {
   "codemirror_mode": {
    "name": "ipython",
    "version": 3
   },
   "file_extension": ".py",
   "mimetype": "text/x-python",
   "name": "python",
   "nbconvert_exporter": "python",
   "pygments_lexer": "ipython3",
   "version": "3.13.2"
  }
 },
 "nbformat": 4,
 "nbformat_minor": 5
}
