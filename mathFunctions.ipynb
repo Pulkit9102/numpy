{
 "cells": [
  {
   "cell_type": "code",
   "execution_count": 1,
   "id": "1a55096b-090f-49ad-b725-393175d8694a",
   "metadata": {},
   "outputs": [],
   "source": [
    "import numpy as np"
   ]
  },
  {
   "cell_type": "code",
   "execution_count": 4,
   "id": "9da49efd-e7d9-42f5-ba9e-788b7f6f57e0",
   "metadata": {},
   "outputs": [],
   "source": [
    "arr = np.array([3,5,2,33])"
   ]
  },
  {
   "cell_type": "code",
   "execution_count": 7,
   "id": "c7ed5709-9675-4b49-a427-11e6bde2ad65",
   "metadata": {},
   "outputs": [
    {
     "data": {
      "text/plain": [
       "np.float64(10.75)"
      ]
     },
     "execution_count": 7,
     "metadata": {},
     "output_type": "execute_result"
    }
   ],
   "source": [
    "np.mean(arr)"
   ]
  },
  {
   "cell_type": "code",
   "execution_count": 6,
   "id": "1d522152-dc12-48ef-90f6-e85f517e5751",
   "metadata": {},
   "outputs": [
    {
     "data": {
      "text/plain": [
       "np.int64(2)"
      ]
     },
     "execution_count": 6,
     "metadata": {},
     "output_type": "execute_result"
    }
   ],
   "source": [
    "np.min(arr)"
   ]
  },
  {
   "cell_type": "code",
   "execution_count": null,
   "id": "2635a28f-c95b-4e18-8af8-d0bae442424b",
   "metadata": {},
   "outputs": [],
   "source": []
  }
 ],
 "metadata": {
  "kernelspec": {
   "display_name": "Python 3 (ipykernel)",
   "language": "python",
   "name": "python3"
  },
  "language_info": {
   "codemirror_mode": {
    "name": "ipython",
    "version": 3
   },
   "file_extension": ".py",
   "mimetype": "text/x-python",
   "name": "python",
   "nbconvert_exporter": "python",
   "pygments_lexer": "ipython3",
   "version": "3.13.2"
  }
 },
 "nbformat": 4,
 "nbformat_minor": 5
}
