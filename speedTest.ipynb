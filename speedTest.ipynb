{
 "cells": [
  {
   "cell_type": "code",
   "execution_count": 1,
   "id": "4eea5997-b16f-42f4-8c5b-41f10990f9ec",
   "metadata": {},
   "outputs": [
    {
     "name": "stdout",
     "output_type": "stream",
     "text": [
      "0.18823885917663574\n"
     ]
    }
   ],
   "source": [
    "#Using python lists\n",
    "import numpy as np\n",
    "import time #to calculate time taken \n",
    "\n",
    "size=1000000 #variable\n",
    "\n",
    "l1=list(range(size)) #List of all numbers starting from 0 to size\n",
    "l2=list(range(size)) #List of all numbers starting from 0 to size\n",
    "\n",
    "start = time.time() #time() function from time module to calculate current time \n",
    "\n",
    "add = [x+y for x,y in zip(l1,l2)] \n",
    "end = time.time() #notes the time stamp\n",
    "# zip() returns pair wise tuples from list example neech hai \n",
    "\n",
    "print(end-start)\n",
    "\n"
   ]
  },
  {
   "cell_type": "code",
   "execution_count": 4,
   "id": "fcd9cd7d-634b-47f3-9738-f0492529869c",
   "metadata": {},
   "outputs": [
    {
     "name": "stdout",
     "output_type": "stream",
     "text": [
      "0.003198862075805664\n"
     ]
    }
   ],
   "source": [
    "#Using numpy arrays\n",
    "import numpy as np\n",
    "import time \n",
    "\n",
    "size = 1_000_000\n",
    "\n",
    "l1 = np.array(list(range(size))) #Creating numpy array of list\n",
    "l2 = np.array(list(range(size)))\n",
    "\n",
    "start = time.time() #calling time() from time module \n",
    "add = l1 + l2 #We can directly add two numpy arrays\n",
    "end = time.time()\n",
    "\n",
    "print(end-start)"
   ]
  },
  {
   "cell_type": "code",
   "execution_count": 6,
   "id": "d4bad4a6-dfda-4e7e-81b3-a42b46b79e32",
   "metadata": {},
   "outputs": [
    {
     "data": {
      "text/plain": [
       "[(1, 6), (2, 7), (4, 8)]"
      ]
     },
     "execution_count": 6,
     "metadata": {},
     "output_type": "execute_result"
    }
   ],
   "source": [
    "# How python zip works \n",
    "l1=[1,2,4]\n",
    "l2=[6,7,8]\n",
    "list(zip(l1,l2))"
   ]
  },
  {
   "cell_type": "code",
   "execution_count": 9,
   "id": "681d89b3-22aa-4cfa-ade9-0fa372030d8a",
   "metadata": {},
   "outputs": [],
   "source": [
    "# Creating 2d arrays \n",
    "arr = np.array([[1,2,3],[4,5,6]])"
   ]
  },
  {
   "cell_type": "code",
   "execution_count": 10,
   "id": "336a1582-e0a8-4a7e-88b6-607d832cd222",
   "metadata": {},
   "outputs": [
    {
     "data": {
      "text/plain": [
       "(2, 3)"
      ]
     },
     "execution_count": 10,
     "metadata": {},
     "output_type": "execute_result"
    }
   ],
   "source": [
    "arr.shape #2rows 3 columns  "
   ]
  },
  {
   "cell_type": "code",
   "execution_count": 14,
   "id": "e5e9b38f-ca35-4c68-a3a5-204d957c4298",
   "metadata": {},
   "outputs": [
    {
     "name": "stdout",
     "output_type": "stream",
     "text": [
      "0.0002014636993408203\n"
     ]
    }
   ],
   "source": [
    "# time calculation for squaring the calculaltion  using python loop\n",
    "import numpy as np\n",
    "import time \n",
    "\n",
    "size = 3\n",
    "list1 = list(range(size)) #list of all numbers starting from 1 to size \n",
    "\n",
    "start = time.time()\n",
    "ls = [x**2 for x in list1]\n",
    "end =time.time()\n",
    "print(end-start)"
   ]
  },
  {
   "cell_type": "code",
   "execution_count": 15,
   "id": "bec5ad73-57a1-4e30-a77a-6e7483561414",
   "metadata": {},
   "outputs": [
    {
     "name": "stdout",
     "output_type": "stream",
     "text": [
      "0.00016999244689941406\n"
     ]
    }
   ],
   "source": [
    "#time calculation for squarring the calculation using numpy (vectorized)\n",
    "\n",
    "import numpy as np\n",
    "import time \n",
    "arr1 = np.array(list(range(size))) #numpy array of list\n",
    "start =time.time()\n",
    "npa = arr1**2\n",
    "end = time.time()\n",
    "print(end-start)"
   ]
  },
  {
   "cell_type": "code",
   "execution_count": null,
   "id": "316f750f-a619-46ed-ba72-1f6ca8565a8f",
   "metadata": {},
   "outputs": [],
   "source": [
    "#numpy is faster than python and optimised in C\n",
    "#uses vectorized operation\n",
    "#consumes less memory\n",
    "#usually work on numbers\n"
   ]
  }
 ],
 "metadata": {
  "kernelspec": {
   "display_name": "Python 3 (ipykernel)",
   "language": "python",
   "name": "python3"
  },
  "language_info": {
   "codemirror_mode": {
    "name": "ipython",
    "version": 3
   },
   "file_extension": ".py",
   "mimetype": "text/x-python",
   "name": "python",
   "nbconvert_exporter": "python",
   "pygments_lexer": "ipython3",
   "version": "3.13.2"
  }
 },
 "nbformat": 4,
 "nbformat_minor": 5
}
